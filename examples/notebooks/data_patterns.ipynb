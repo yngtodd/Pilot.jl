{
 "cells": [
  {
   "cell_type": "code",
   "execution_count": null,
   "metadata": {},
   "outputs": [],
   "source": [
    "using NPZ\n",
    "using ProgressMeter\n",
    "import MLDataPattern"
   ]
  },
  {
   "cell_type": "code",
   "execution_count": 2,
   "metadata": {},
   "outputs": [],
   "source": [
    "path = \"/Users/ygx/data/P3B3/raw\";"
   ]
  },
  {
   "cell_type": "code",
   "execution_count": 6,
   "metadata": {},
   "outputs": [
    {
     "data": {
      "text/plain": [
       "\"/Users/ygx/data/P3B3/raw/train-labels.npy\""
      ]
     },
     "execution_count": 6,
     "metadata": {},
     "output_type": "execute_result"
    }
   ],
   "source": [
    "x_train_path = joinpath(path, \"train-data.npy\")\n",
    "y_train_path = joinpath(path, \"train-labels.npy\")"
   ]
  },
  {
   "cell_type": "code",
   "execution_count": 7,
   "metadata": {},
   "outputs": [
    {
     "data": {
      "text/plain": [
       "4×8000 LinearAlgebra.Transpose{Int64,Array{Int64,2}}:\n",
       " 5  4  5  5  1  0  1  5  5  1  2  0  0  …  5  5  5  5  5  1  5  5  0  5  5  5\n",
       " 0  0  0  1  1  1  1  0  0  0  1  1  1     1  1  1  1  1  1  0  1  1  0  1  0\n",
       " 1  1  0  1  1  1  1  0  0  1  1  1  1     1  1  1  1  1  1  1  1  1  1  1  1\n",
       " 2  1  0  2  2  2  2  1  1  2  2  2  1     2  0  0  2  1  2  1  1  1  1  1  1"
      ]
     },
     "execution_count": 7,
     "metadata": {},
     "output_type": "execute_result"
    }
   ],
   "source": [
    "x_train = npzread(x_train_path);\n",
    "# Julia is column-major\n",
    "x_train = transpose(x_train);\n",
    "\n",
    "y_train = npzread(y_train_path);\n",
    "y_train = transpose(y_train)"
   ]
  },
  {
   "cell_type": "code",
   "execution_count": 8,
   "metadata": {},
   "outputs": [
    {
     "data": {
      "text/plain": [
       "(1500, 8000)"
      ]
     },
     "execution_count": 8,
     "metadata": {},
     "output_type": "execute_result"
    }
   ],
   "source": [
    "size(x_train)"
   ]
  },
  {
   "cell_type": "code",
   "execution_count": 10,
   "metadata": {},
   "outputs": [
    {
     "name": "stderr",
     "output_type": "stream",
     "text": [
      "\u001b[32mProgress: 100%|█████████████████████████████████████████| Time: 0:00:04\u001b[39m\n"
     ]
    }
   ],
   "source": [
    "# We leave out 15 % of the data for testing\n",
    "(cv_X, cv_Y), (test_X, test_Y) = MLDataPattern.splitobs((x_train, y_train); at = 0.85)\n",
    "\n",
    "# Next we partition the data using a 10-fold scheme.\n",
    "# Notice how we do not need to splat train into X and Y\n",
    "@showprogress for (train, (val_X, val_Y)) in MLDataPattern.kfolds((cv_X, cv_Y); k = 10)\n",
    "\n",
    "    for epoch = 1:10\n",
    "        # Iterate over the data using mini-batches of 5 observations each\n",
    "        for (batch_X, batch_Y) in MLDataPattern.eachbatch(train, size = 5)\n",
    "            # ... train supervised model on minibatches here\n",
    "        end\n",
    "    end\n",
    "end"
   ]
  },
  {
   "cell_type": "code",
   "execution_count": null,
   "metadata": {},
   "outputs": [],
   "source": []
  }
 ],
 "metadata": {
  "kernelspec": {
   "display_name": "Julia 1.4.0",
   "language": "julia",
   "name": "julia-1.4"
  },
  "language_info": {
   "file_extension": ".jl",
   "mimetype": "application/julia",
   "name": "julia",
   "version": "1.4.0"
  }
 },
 "nbformat": 4,
 "nbformat_minor": 4
}
